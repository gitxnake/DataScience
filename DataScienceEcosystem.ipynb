{
 "cells": [
  {
   "cell_type": "markdown",
   "id": "e96c5699-2dd3-49c3-9bec-dae6e555c9c0",
   "metadata": {},
   "source": [
    "# Data Science Tools and Ecosystem"
   ]
  },
  {
   "cell_type": "markdown",
   "id": "6a080118-202f-45fc-b770-c4da8cbc11a4",
   "metadata": {},
   "source": [
    "In this notebook, Data Science Tools and Ecosystem are summarized."
   ]
  },
  {
   "cell_type": "markdown",
   "id": "0958460c-530f-4bd8-836f-2a10311e9ad7",
   "metadata": {},
   "source": [
    "**Objectives:**\n",
    "- List popular languages for Data Science\n",
    "- List popular Data Science Tools\n",
    "- Create a Jupyter Notebook with Markdown and Code cells"
   ]
  },
  {
   "cell_type": "markdown",
   "id": "f9686c9c-5875-4e7e-88f6-c12b4306ad71",
   "metadata": {},
   "source": [
    "Some of the popular languages that Data Scientists use are:\n",
    "- Python\n",
    "- R\n",
    "- SQL\n",
    "- Julia\n",
    "- Scala\n",
    "- Java\n",
    "- SAS"
   ]
  },
  {
   "cell_type": "markdown",
   "id": "194089cb-dd95-4659-864d-894481161316",
   "metadata": {},
   "source": [
    "| Data Science Tools         |\n",
    "|----------------------------|\n",
    "| Jupyter Notebook           |\n",
    "| RStudio                    |\n",
    "| Visual Studio Code (VS Code) |"
   ]
  },
  {
   "cell_type": "markdown",
   "id": "cc56e573-4e2f-46c0-af3b-45461c7fdad0",
   "metadata": {},
   "source": [
    "### Below are a few examples of evaluating arithmetic expressions in Python.\n",
    "\n",
    "- Addition: 5 + 3\n",
    "- Subtraction: 10 - 4\n",
    "- Multiplication: 7 * 2\n",
    "- Division: 20 / 5\n",
    "- Exponentiation: 2 ** 3"
   ]
  },
  {
   "cell_type": "code",
   "execution_count": 1,
   "id": "d61e1447-a178-438f-92b8-904bcaacffcc",
   "metadata": {},
   "outputs": [
    {
     "data": {
      "text/plain": [
       "17"
      ]
     },
     "execution_count": 1,
     "metadata": {},
     "output_type": "execute_result"
    }
   ],
   "source": [
    "# This a simple arithmetic expression to mutiply then add integers\n",
    "(3*4)+5"
   ]
  },
  {
   "cell_type": "code",
   "execution_count": 2,
   "id": "2c4978d5-3aed-40a5-b006-ffdf172b3186",
   "metadata": {},
   "outputs": [
    {
     "name": "stdout",
     "output_type": "stream",
     "text": [
      "3.3333333333333335\n"
     ]
    }
   ],
   "source": [
    "# This will convert 200 minutes to hours by diving by 60\n",
    "minutes = 200\n",
    "hours = minutes / 60\n",
    "print(hours)"
   ]
  },
  {
   "cell_type": "markdown",
   "id": "13b098f6-51a9-498d-8a18-c3896e295c4b",
   "metadata": {},
   "source": [
    "## Author\n",
    "Juan Barca"
   ]
  },
  {
   "cell_type": "code",
   "execution_count": null,
   "id": "ac18342b-04a8-41e1-b5df-e056a5842ff6",
   "metadata": {},
   "outputs": [],
   "source": []
  }
 ],
 "metadata": {
  "kernelspec": {
   "display_name": "Python 3 (ipykernel)",
   "language": "python",
   "name": "python3"
  },
  "language_info": {
   "codemirror_mode": {
    "name": "ipython",
    "version": 3
   },
   "file_extension": ".py",
   "mimetype": "text/x-python",
   "name": "python",
   "nbconvert_exporter": "python",
   "pygments_lexer": "ipython3",
   "version": "3.13.5"
  }
 },
 "nbformat": 4,
 "nbformat_minor": 5
}
